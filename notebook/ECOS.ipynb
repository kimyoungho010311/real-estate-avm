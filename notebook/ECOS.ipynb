{
 "cells": [
  {
   "cell_type": "code",
   "execution_count": null,
   "id": "0703f4a6",
   "metadata": {},
   "outputs": [],
   "source": [
    "import requests\n",
    "from datetime import datetime, timedelta\n",
    "import os, time\n"
   ]
  },
  {
   "cell_type": "code",
   "execution_count": 65,
   "id": "4e9c2a91",
   "metadata": {},
   "outputs": [],
   "source": [
    "\n",
    "API_KEY = \"EISNAC3XLJ7VVMX2D51V\"\n",
    "STAT_CODE = \"722Y001\"\n",
    "FREQ = \"M\"\n",
    "ITEM_CODE = \"0101000\"\n",
    "\n",
    "today = date.today()\n",
    "today_str = today.strftime(\"%Y%m\")"
   ]
  },
  {
   "cell_type": "code",
   "execution_count": 86,
   "id": "c6302da0",
   "metadata": {},
   "outputs": [],
   "source": [
    "url = f\"https://ecos.bok.or.kr/api/StatisticSearch/{API_KEY}/json/kr/1/10000/{STAT_CODE}/{FREQ}/{today_str}/{today_str}/{ITEM_CODE}\"\n",
    "test_url = 'https://ecos.bok.or.kr/api/StatisticSearch/EISNAC3XLJ7VVMX2D51V/json/kr/1/10000/722Y001/M/202502/202502/0101000'\n"
   ]
  },
  {
   "cell_type": "code",
   "execution_count": 105,
   "id": "eef91149",
   "metadata": {},
   "outputs": [
    {
     "name": "stdout",
     "output_type": "stream",
     "text": [
      "===== 정상적인 데이터 =====\n",
      "    STAT_CODE  : 722Y001\n",
      "    STAT_NAME  : 1.3.1. 한국은행 기준금리 및 여수신금리\n",
      "    ITEM_CODE1 : 0101000\n",
      "    ITEM_NAME1 : 한국은행 기준금리\n",
      "    UNIT_NAME  : 연%\n",
      "    TIME       : 202502\n",
      "    DATA_VALUE : 2.75\n",
      "-----------------------------\n"
     ]
    }
   ],
   "source": [
    "\n",
    "response = requests.get(test_url)\n",
    "\n",
    "if response.status_code == 200:\n",
    "    data = response.json()\n",
    "    if 'StatisticSearch' in data:\n",
    "        # StatisticSearch가 존재하면 정상적인 데이터이므로 그대로 저장 진행\n",
    "        example_data = data['StatisticSearch']['row']\n",
    "        print(\"===== 정상적인 데이터 =====\")\n",
    "        for i, item in enumerate(example_data, start=1):\n",
    "            print(f\"    STAT_CODE  : {item.get('STAT_CODE')}\")\n",
    "            print(f\"    STAT_NAME  : {item.get('STAT_NAME')}\")\n",
    "            print(f\"    ITEM_CODE1 : {item.get('ITEM_CODE1')}\")\n",
    "            print(f\"    ITEM_NAME1 : {item.get('ITEM_NAME1')}\")\n",
    "            print(f\"    UNIT_NAME  : {item.get('UNIT_NAME')}\")\n",
    "            print(f\"    TIME       : {item.get('TIME')}\")\n",
    "            print(f\"    DATA_VALUE : {item.get('DATA_VALUE')}\")\n",
    "            print(\"-----------------------------\")\n",
    "    else:\n",
    "        # StatisticSearch가 없으면 비정상적인 데이터이므로 출력하여 데이터 확인\n",
    "        code = data['RESULT'].get('CODE', 'N/A')\n",
    "        message = data['RESULT'].get('MESSAGE', 'N/A')\n",
    "        print(\"===== ECOS API 에러 발생 =====\")\n",
    "        print(f\"Code   : {code}\")\n",
    "        print(f\"Message: {message}\")\n",
    "        print(\"==========================\")\n",
    "else:\n",
    "    print(F\"[ERROR] {response.status_code}, {data}\")\n"
   ]
  },
  {
   "cell_type": "code",
   "execution_count": 106,
   "id": "14d6db7a",
   "metadata": {},
   "outputs": [
    {
     "data": {
      "text/plain": [
       "{'StatisticSearch': {'list_total_count': 1,\n",
       "  'row': [{'STAT_CODE': '722Y001',\n",
       "    'STAT_NAME': '1.3.1. 한국은행 기준금리 및 여수신금리',\n",
       "    'ITEM_CODE1': '0101000',\n",
       "    'ITEM_NAME1': '한국은행 기준금리',\n",
       "    'ITEM_CODE2': None,\n",
       "    'ITEM_NAME2': None,\n",
       "    'ITEM_CODE3': None,\n",
       "    'ITEM_NAME3': None,\n",
       "    'ITEM_CODE4': None,\n",
       "    'ITEM_NAME4': None,\n",
       "    'UNIT_NAME': '연%',\n",
       "    'WGT': None,\n",
       "    'TIME': '202502',\n",
       "    'DATA_VALUE': '2.75'}]}}"
      ]
     },
     "execution_count": 106,
     "metadata": {},
     "output_type": "execute_result"
    }
   ],
   "source": [
    "data"
   ]
  },
  {
   "cell_type": "code",
   "execution_count": null,
   "id": "340b00f0",
   "metadata": {},
   "outputs": [],
   "source": []
  }
 ],
 "metadata": {
  "kernelspec": {
   "display_name": "apt_sale",
   "language": "python",
   "name": "python3"
  },
  "language_info": {
   "codemirror_mode": {
    "name": "ipython",
    "version": 3
   },
   "file_extension": ".py",
   "mimetype": "text/x-python",
   "name": "python",
   "nbconvert_exporter": "python",
   "pygments_lexer": "ipython3",
   "version": "3.11.5"
  }
 },
 "nbformat": 4,
 "nbformat_minor": 5
}
