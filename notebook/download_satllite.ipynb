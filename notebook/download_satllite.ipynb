{
 "cells": [
  {
   "cell_type": "code",
   "execution_count": 53,
   "id": "0f44c0d8",
   "metadata": {},
   "outputs": [],
   "source": [
    "import boto3\n",
    "from datetime import date\n",
    "import pandas as pd"
   ]
  },
  {
   "cell_type": "code",
   "execution_count": 54,
   "id": "527d8e38",
   "metadata": {},
   "outputs": [
    {
     "data": {
      "text/html": [
       "<div>\n",
       "<style scoped>\n",
       "    .dataframe tbody tr th:only-of-type {\n",
       "        vertical-align: middle;\n",
       "    }\n",
       "\n",
       "    .dataframe tbody tr th {\n",
       "        vertical-align: top;\n",
       "    }\n",
       "\n",
       "    .dataframe thead th {\n",
       "        text-align: right;\n",
       "    }\n",
       "</style>\n",
       "<table border=\"1\" class=\"dataframe\">\n",
       "  <thead>\n",
       "    <tr style=\"text-align: right;\">\n",
       "      <th></th>\n",
       "      <th>단지명</th>\n",
       "      <th>전용면적(㎡)</th>\n",
       "      <th>층</th>\n",
       "      <th>건축년도</th>\n",
       "      <th>도로명</th>\n",
       "      <th>면적당 단가(만원)</th>\n",
       "      <th>아파트 나이</th>\n",
       "      <th>계약일자</th>\n",
       "      <th>경도</th>\n",
       "      <th>위도</th>\n",
       "    </tr>\n",
       "  </thead>\n",
       "  <tbody>\n",
       "    <tr>\n",
       "      <th>0</th>\n",
       "      <td>강남데시앙포레</td>\n",
       "      <td>84.92</td>\n",
       "      <td>4</td>\n",
       "      <td>2014</td>\n",
       "      <td>광평로34길 55</td>\n",
       "      <td>2425.812529</td>\n",
       "      <td>11</td>\n",
       "      <td>2025-09-24</td>\n",
       "      <td>127.092172</td>\n",
       "      <td>37.480856</td>\n",
       "    </tr>\n",
       "  </tbody>\n",
       "</table>\n",
       "</div>"
      ],
      "text/plain": [
       "       단지명  전용면적(㎡)  층  건축년도        도로명   면적당 단가(만원)  아파트 나이        계약일자  \\\n",
       "0  강남데시앙포레    84.92  4  2014  광평로34길 55  2425.812529      11  2025-09-24   \n",
       "\n",
       "           경도         위도  \n",
       "0  127.092172  37.480856  "
      ]
     },
     "execution_count": 54,
     "metadata": {},
     "output_type": "execute_result"
    }
   ],
   "source": [
    "today = date.today()\n",
    "#today_str = today.strftime('%Y-%m-%d')\n",
    "today_str = '2025-09-24'\n",
    "\n",
    "s3 = boto3.client('s3', region_name='ap-northeast-2')\n",
    "\n",
    "bucket_name = 'real-estate-avm'\n",
    "object_key = f'processed/preprocessed_apt_txn/dt={today_str}/{today_str}.csv'\n",
    "local_file = 'data/file.csv'\n",
    "\n",
    "obj = s3.get_object(Bucket=bucket_name, Key=object_key)\n",
    "df = pd.read_csv(obj['Body'])\n",
    "\n",
    "df.head()"
   ]
  },
  {
   "cell_type": "code",
   "execution_count": 55,
   "id": "cea8f30f",
   "metadata": {},
   "outputs": [],
   "source": [
    "# === 필요한 라이브러리 불러오기 ===\n",
    "import ee  # Google Earth Engine 파이썬 API\n",
    "import requests  # 웹 요청 (썸네일 이미지 다운로드)\n",
    "import pandas as pd\n",
    "from PIL import Image  # 이미지 파일 열고 저장\n",
    "from io import BytesIO  # 이미지 바이트 데이터를 PIL로 읽기 위한 버퍼\n",
    "from datetime import datetime, timedelta, date  # 날짜 처리용\n",
    "from concurrent.futures import ThreadPoolExecutor, as_completed\n",
    "from tqdm import tqdm\n",
    "from dotenv import load_dotenv\n",
    "import os \n",
    "\n",
    "import logging\n",
    "from logging.handlers import RotatingFileHandler"
   ]
  },
  {
   "cell_type": "code",
   "execution_count": 56,
   "id": "9d0cedef",
   "metadata": {},
   "outputs": [],
   "source": [
    "project = 'aptprice-464102'"
   ]
  },
  {
   "cell_type": "code",
   "execution_count": 57,
   "id": "a386d3b1",
   "metadata": {},
   "outputs": [
    {
     "name": "stdout",
     "output_type": "stream",
     "text": [
      "Google Earth Engine 초기화 완료\n"
     ]
    }
   ],
   "source": [
    "# === Earth Engine 초기화 ===\n",
    "ee.Authenticate()\n",
    "ee.Initialize(project=project)\n",
    "print(\"Google Earth Engine 초기화 완료\")"
   ]
  },
  {
   "cell_type": "code",
   "execution_count": 58,
   "id": "16e74c8b",
   "metadata": {},
   "outputs": [
    {
     "name": "stdout",
     "output_type": "stream",
     "text": [
      "\n",
      "[0] 처리 중: 2025-09-24 / lat=37.4809, lon=127.0922\n",
      " -> [성공] apt_image_0.jpg 로 저장 완료.\n",
      "\n",
      "--- 이미지 다운로드 완료 ---\n"
     ]
    }
   ],
   "source": [
    "\n",
    "# --- 1. 데이터프레임 순회 ---\n",
    "# DataFrame의 각 행을 순회하며 위성 이미지를 가져옵니다.\n",
    "for idx, row in df.iterrows():\n",
    "    \n",
    "    # --- 2. 이미지 검색을 위한 정보 설정 ---\n",
    "    lat = row['위도']\n",
    "    lon = row['경도']\n",
    "    tx_date = datetime.strptime(row['계약일자'], \"%Y-%m-%d\")\n",
    "    \n",
    "    # 검색할 날짜 범위 설정 (계약일 기준 앞뒤 6개월)\n",
    "    start_date = (tx_date - timedelta(days=183)).strftime('%Y-%m-%d')\n",
    "    end_date = (tx_date + timedelta(days=183)).strftime('%Y-%m-%d')\n",
    "\n",
    "    # 검색할 지역(ROI, Region of Interest) 설정 (중심점에서 1500m 반경)\n",
    "    center = ee.Geometry.Point([lon, lat])\n",
    "    roi = center.buffer(1500).bounds()\n",
    "\n",
    "    print(f\"\\n[{idx}] 처리 중: {row['계약일자']} / lat={lat:.4f}, lon={lon:.4f}\")\n",
    "\n",
    "    # --- 3. Earth Engine에서 이미지 컬렉션 검색 ---\n",
    "    # 구름이 5% 미만인 Sentinel-2 위성 이미지 검색\n",
    "    collection = (\n",
    "        ee.ImageCollection('COPERNICUS/S2_SR_HARMONIZED')\n",
    "        .filterBounds(center)\n",
    "        .filterDate(start_date, end_date)\n",
    "        .filter(ee.Filter.lt('CLOUDY_PIXEL_PERCENTAGE', 5))\n",
    "    )\n",
    "\n",
    "    # 검색된 이미지가 없으면 건너뛰기\n",
    "    if collection.size().getInfo() == 0:\n",
    "        print(f\" -> [실패] 해당 조건의 위성 이미지를 찾을 수 없습니다.\")\n",
    "        continue\n",
    "\n",
    "    # 가장 최신 이미지를 선택\n",
    "    image = collection.sort('system:time_start', False).first()\n",
    "\n",
    "    # --- 4. 이미지 시각화 파라미터 설정 ---\n",
    "    # 이미지의 밝기 등을 조절하기 위해 픽셀 값의 최소/최대 범위를 동적으로 계산\n",
    "    stats = image.reduceRegion(\n",
    "        reducer=ee.Reducer.percentile([2, 98]),\n",
    "        geometry=roi, scale=10, maxPixels=1e8\n",
    "    ).getInfo()\n",
    "\n",
    "    if not stats:\n",
    "        print(f\" -> [실패] 이미지 통계 정보를 계산할 수 없습니다.\")\n",
    "        continue\n",
    "        \n",
    "    vis_params = {\n",
    "        'region': roi,\n",
    "        'format': 'jpg',\n",
    "        'bands': ['B4', 'B3', 'B2'], # RGB 밴드\n",
    "        'min': [stats.get('B4_p2', 500), stats.get('B3_p2', 500), stats.get('B2_p2', 500)],\n",
    "        'max': [stats.get('B4_p98', 3500), stats.get('B3_p98', 3500), stats.get('B2_p98', 3500)],\n",
    "        'scale': 10\n",
    "    }\n",
    "\n",
    "    # --- 5. 이미지 다운로드 및 저장 ---\n",
    "    try:\n",
    "        # 이미지 다운로드 URL 생성\n",
    "        url = image.getThumbURL(vis_params)\n",
    "        \n",
    "        # URL로부터 이미지 데이터 요청\n",
    "        response = requests.get(url)\n",
    "        response.raise_for_status() # 요청 실패 시 에러 발생\n",
    "        \n",
    "        # 이미지 데이터를 PIL Image 객체로 변환\n",
    "        img = Image.open(BytesIO(response.content))\n",
    "        \n",
    "        # 파일로 저장\n",
    "        img.save(f\"data/apt_image_{idx}.jpg\")\n",
    "        print(f\" -> [성공] apt_image_{idx}.jpg 로 저장 완료.\")\n",
    "\n",
    "    except Exception as e:\n",
    "        print(f\" -> [실패] 이미지 다운로드 또는 저장 중 예외 발생: {e}\")\n",
    "\n",
    "print(\"\\n--- 이미지 다운로드 완료 ---\")"
   ]
  },
  {
   "cell_type": "code",
   "execution_count": null,
   "id": "6110d128",
   "metadata": {},
   "outputs": [],
   "source": []
  }
 ],
 "metadata": {
  "kernelspec": {
   "display_name": "apt_sale",
   "language": "python",
   "name": "python3"
  },
  "language_info": {
   "codemirror_mode": {
    "name": "ipython",
    "version": 3
   },
   "file_extension": ".py",
   "mimetype": "text/x-python",
   "name": "python",
   "nbconvert_exporter": "python",
   "pygments_lexer": "ipython3",
   "version": "3.11.5"
  }
 },
 "nbformat": 4,
 "nbformat_minor": 5
}
